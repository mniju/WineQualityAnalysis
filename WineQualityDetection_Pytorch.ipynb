{
 "cells": [
  {
   "cell_type": "code",
   "execution_count": 1,
   "metadata": {},
   "outputs": [],
   "source": [
    "%matplotlib inline\n",
    "import pandas as pd\n",
    "import os\n",
    "from sklearn.model_selection import train_test_split\n",
    "import torch\n",
    "import torch.nn as nn\n",
    "import torch.nn.functional as F\n",
    "import torch.optim as optim\n",
    "from torchvision import datasets, transforms\n",
    "from torch.autograd import Variable"
   ]
  },
  {
   "cell_type": "code",
   "execution_count": 2,
   "metadata": {},
   "outputs": [],
   "source": [
    "PATH = './data'"
   ]
  },
  {
   "cell_type": "code",
   "execution_count": 3,
   "metadata": {},
   "outputs": [
    {
     "name": "stdout",
     "output_type": "stream",
     "text": [
      "winequality-red.csv  winequality-white.csv\r\n"
     ]
    }
   ],
   "source": [
    "! ls {PATH}"
   ]
  },
  {
   "cell_type": "code",
   "execution_count": 4,
   "metadata": {},
   "outputs": [
    {
     "data": {
      "text/plain": [
       "['winequality-red.csv', 'winequality-white.csv']"
      ]
     },
     "execution_count": 4,
     "metadata": {},
     "output_type": "execute_result"
    }
   ],
   "source": [
    "os.listdir(PATH)"
   ]
  },
  {
   "cell_type": "code",
   "execution_count": 5,
   "metadata": {},
   "outputs": [],
   "source": [
    "df = pd.read_csv(f'{PATH}/winequality-red.csv',sep = ';',quotechar = '\"')"
   ]
  },
  {
   "cell_type": "code",
   "execution_count": 6,
   "metadata": {},
   "outputs": [
    {
     "name": "stdout",
     "output_type": "stream",
     "text": [
      "(1599, 12)\n"
     ]
    }
   ],
   "source": [
    "print(df.shape)"
   ]
  },
  {
   "cell_type": "code",
   "execution_count": 7,
   "metadata": {},
   "outputs": [
    {
     "data": {
      "text/html": [
       "<div>\n",
       "<style scoped>\n",
       "    .dataframe tbody tr th:only-of-type {\n",
       "        vertical-align: middle;\n",
       "    }\n",
       "\n",
       "    .dataframe tbody tr th {\n",
       "        vertical-align: top;\n",
       "    }\n",
       "\n",
       "    .dataframe thead th {\n",
       "        text-align: right;\n",
       "    }\n",
       "</style>\n",
       "<table border=\"1\" class=\"dataframe\">\n",
       "  <thead>\n",
       "    <tr style=\"text-align: right;\">\n",
       "      <th></th>\n",
       "      <th>fixed acidity</th>\n",
       "      <th>volatile acidity</th>\n",
       "      <th>citric acid</th>\n",
       "      <th>residual sugar</th>\n",
       "      <th>chlorides</th>\n",
       "      <th>free sulfur dioxide</th>\n",
       "      <th>total sulfur dioxide</th>\n",
       "      <th>density</th>\n",
       "      <th>pH</th>\n",
       "      <th>sulphates</th>\n",
       "      <th>alcohol</th>\n",
       "      <th>quality</th>\n",
       "    </tr>\n",
       "  </thead>\n",
       "  <tbody>\n",
       "    <tr>\n",
       "      <th>0</th>\n",
       "      <td>7.4</td>\n",
       "      <td>0.70</td>\n",
       "      <td>0.00</td>\n",
       "      <td>1.9</td>\n",
       "      <td>0.076</td>\n",
       "      <td>11.0</td>\n",
       "      <td>34.0</td>\n",
       "      <td>0.9978</td>\n",
       "      <td>3.51</td>\n",
       "      <td>0.56</td>\n",
       "      <td>9.4</td>\n",
       "      <td>5</td>\n",
       "    </tr>\n",
       "    <tr>\n",
       "      <th>1</th>\n",
       "      <td>7.8</td>\n",
       "      <td>0.88</td>\n",
       "      <td>0.00</td>\n",
       "      <td>2.6</td>\n",
       "      <td>0.098</td>\n",
       "      <td>25.0</td>\n",
       "      <td>67.0</td>\n",
       "      <td>0.9968</td>\n",
       "      <td>3.20</td>\n",
       "      <td>0.68</td>\n",
       "      <td>9.8</td>\n",
       "      <td>5</td>\n",
       "    </tr>\n",
       "    <tr>\n",
       "      <th>2</th>\n",
       "      <td>7.8</td>\n",
       "      <td>0.76</td>\n",
       "      <td>0.04</td>\n",
       "      <td>2.3</td>\n",
       "      <td>0.092</td>\n",
       "      <td>15.0</td>\n",
       "      <td>54.0</td>\n",
       "      <td>0.9970</td>\n",
       "      <td>3.26</td>\n",
       "      <td>0.65</td>\n",
       "      <td>9.8</td>\n",
       "      <td>5</td>\n",
       "    </tr>\n",
       "    <tr>\n",
       "      <th>3</th>\n",
       "      <td>11.2</td>\n",
       "      <td>0.28</td>\n",
       "      <td>0.56</td>\n",
       "      <td>1.9</td>\n",
       "      <td>0.075</td>\n",
       "      <td>17.0</td>\n",
       "      <td>60.0</td>\n",
       "      <td>0.9980</td>\n",
       "      <td>3.16</td>\n",
       "      <td>0.58</td>\n",
       "      <td>9.8</td>\n",
       "      <td>6</td>\n",
       "    </tr>\n",
       "    <tr>\n",
       "      <th>4</th>\n",
       "      <td>7.4</td>\n",
       "      <td>0.70</td>\n",
       "      <td>0.00</td>\n",
       "      <td>1.9</td>\n",
       "      <td>0.076</td>\n",
       "      <td>11.0</td>\n",
       "      <td>34.0</td>\n",
       "      <td>0.9978</td>\n",
       "      <td>3.51</td>\n",
       "      <td>0.56</td>\n",
       "      <td>9.4</td>\n",
       "      <td>5</td>\n",
       "    </tr>\n",
       "  </tbody>\n",
       "</table>\n",
       "</div>"
      ],
      "text/plain": [
       "   fixed acidity  volatile acidity  citric acid  residual sugar  chlorides  \\\n",
       "0            7.4              0.70         0.00             1.9      0.076   \n",
       "1            7.8              0.88         0.00             2.6      0.098   \n",
       "2            7.8              0.76         0.04             2.3      0.092   \n",
       "3           11.2              0.28         0.56             1.9      0.075   \n",
       "4            7.4              0.70         0.00             1.9      0.076   \n",
       "\n",
       "   free sulfur dioxide  total sulfur dioxide  density    pH  sulphates  \\\n",
       "0                 11.0                  34.0   0.9978  3.51       0.56   \n",
       "1                 25.0                  67.0   0.9968  3.20       0.68   \n",
       "2                 15.0                  54.0   0.9970  3.26       0.65   \n",
       "3                 17.0                  60.0   0.9980  3.16       0.58   \n",
       "4                 11.0                  34.0   0.9978  3.51       0.56   \n",
       "\n",
       "   alcohol  quality  \n",
       "0      9.4        5  \n",
       "1      9.8        5  \n",
       "2      9.8        5  \n",
       "3      9.8        6  \n",
       "4      9.4        5  "
      ]
     },
     "execution_count": 7,
     "metadata": {},
     "output_type": "execute_result"
    }
   ],
   "source": [
    "df.head()"
   ]
  },
  {
   "cell_type": "code",
   "execution_count": 8,
   "metadata": {},
   "outputs": [
    {
     "data": {
      "text/plain": [
       "Index(['fixed acidity', 'volatile acidity', 'citric acid', 'residual sugar',\n",
       "       'chlorides', 'free sulfur dioxide', 'total sulfur dioxide', 'density',\n",
       "       'pH', 'sulphates', 'alcohol', 'quality'],\n",
       "      dtype='object')"
      ]
     },
     "execution_count": 8,
     "metadata": {},
     "output_type": "execute_result"
    }
   ],
   "source": [
    "df.columns"
   ]
  },
  {
   "cell_type": "code",
   "execution_count": 9,
   "metadata": {},
   "outputs": [
    {
     "data": {
      "text/plain": [
       "5    681\n",
       "6    638\n",
       "7    199\n",
       "4     53\n",
       "8     18\n",
       "3     10\n",
       "Name: quality, dtype: int64"
      ]
     },
     "execution_count": 9,
     "metadata": {},
     "output_type": "execute_result"
    }
   ],
   "source": [
    "df['quality'].value_counts()"
   ]
  },
  {
   "cell_type": "markdown",
   "metadata": {},
   "source": [
    "#### High Quality Classification"
   ]
  },
  {
   "cell_type": "code",
   "execution_count": 10,
   "metadata": {},
   "outputs": [],
   "source": [
    "def is_high_quality(quality):\n",
    "    if  quality > 6:\n",
    "        return 1 \n",
    "    else :\n",
    "        return 0"
   ]
  },
  {
   "cell_type": "code",
   "execution_count": 11,
   "metadata": {},
   "outputs": [],
   "source": [
    "df['qualitybool'] = df['quality'].apply(is_high_quality)"
   ]
  },
  {
   "cell_type": "code",
   "execution_count": 12,
   "metadata": {},
   "outputs": [],
   "source": [
    "X = df.drop(['qualitybool','quality'],axis = 1)\n",
    "target = df['qualitybool']"
   ]
  },
  {
   "cell_type": "code",
   "execution_count": 13,
   "metadata": {},
   "outputs": [
    {
     "name": "stdout",
     "output_type": "stream",
     "text": [
      "XShape:(1599, 11),targetShape(1599,)\n"
     ]
    }
   ],
   "source": [
    "print('XShape:{},targetShape{}'.format(X.shape,target.shape))"
   ]
  },
  {
   "cell_type": "code",
   "execution_count": 14,
   "metadata": {},
   "outputs": [],
   "source": [
    "X_train, X_test, target_train, target_test = train_test_split(X,target,test_size = 0.33,random_state=123)"
   ]
  },
  {
   "cell_type": "markdown",
   "metadata": {},
   "source": [
    "The input has 11 columns. So the input layer should have 11 rows amd any no of c columns.Final output should have 1 column and (how many rows ?)"
   ]
  },
  {
   "cell_type": "code",
   "execution_count": 15,
   "metadata": {},
   "outputs": [],
   "source": [
    "class Net(nn.Module):\n",
    "    def __init__(self):\n",
    "        super().__init__()\n",
    "        self.l1 = nn.Linear(11,50)\n",
    "        self.l2 = nn.Linear(50,2)\n",
    "    \n",
    "    def forward(self,x):\n",
    "        x = F.relu(self.l1(x))\n",
    "        return self.l2(x)\n",
    "    "
   ]
  },
  {
   "cell_type": "code",
   "execution_count": 16,
   "metadata": {},
   "outputs": [],
   "source": [
    "model = Net()\n",
    "criterion = nn.CrossEntropyLoss()\n",
    "optimizer = optim.SGD(model.parameters(),lr=0.01,momentum = 0.5)"
   ]
  },
  {
   "cell_type": "code",
   "execution_count": 17,
   "metadata": {},
   "outputs": [],
   "source": [
    "def train_data(epochs,bz):\n",
    "    for epoch in range(epochs):\n",
    "        train_loss = 0\n",
    "        batch = 0\n",
    "        # Need to convert the data from Numpy to Tensor\n",
    "        for start, end in zip(range(0, len(X_train), bz), \n",
    "                              range(bz, len(X_train), bz)):\n",
    "            inputs = torch.from_numpy((X_train[start:end]).as_matrix())\n",
    "            inputs = inputs.float()\n",
    "            #labels = torch.Tensor(target_train[start:end])\n",
    "            labels = torch.from_numpy((target_train[start:end]).as_matrix())\n",
    "            labels = labels.long()\n",
    "            \n",
    "            # wrap them in variable\n",
    "            inputs = Variable(inputs)\n",
    "            labels = Variable(labels)\n",
    "            \n",
    "            # zero the parameter gradients\n",
    "            optimizer.zero_grad()\n",
    "            \n",
    "            outputs = model(inputs)\n",
    "            loss = criterion(outputs,labels)\n",
    "            loss.backward()\n",
    "            optimizer.step()\n",
    "            \n",
    "            train_loss += loss.data[0]\n",
    "            batch += 1\n",
    "            #if i % 1 == 0:    # print every 2000 mini-batches\n",
    "            print('[%d, %5d] loss: %.3f' %(epoch + 1, batch + 1, train_loss / 100))\n",
    "        train_loss = 0.0\n",
    "    print('Training Completed !')\n",
    "    "
   ]
  },
  {
   "cell_type": "code",
   "execution_count": 18,
   "metadata": {},
   "outputs": [],
   "source": [
    "bz = 100\n",
    "epochs = 10"
   ]
  },
  {
   "cell_type": "code",
   "execution_count": 19,
   "metadata": {},
   "outputs": [
    {
     "name": "stdout",
     "output_type": "stream",
     "text": [
      "[1,     2] loss: 0.039\n",
      "[1,     3] loss: 0.090\n",
      "[1,     4] loss: 0.124\n",
      "[1,     5] loss: 0.152\n",
      "[1,     6] loss: 0.175\n",
      "[1,     7] loss: 0.201\n",
      "[1,     8] loss: 0.206\n",
      "[1,     9] loss: 0.218\n",
      "[1,    10] loss: 0.224\n",
      "[1,    11] loss: 0.232\n",
      "[2,     2] loss: 0.005\n",
      "[2,     3] loss: 0.016\n",
      "[2,     4] loss: 0.020\n",
      "[2,     5] loss: 0.025\n",
      "[2,     6] loss: 0.028\n",
      "[2,     7] loss: 0.033\n",
      "[2,     8] loss: 0.035\n",
      "[2,     9] loss: 0.040\n",
      "[2,    10] loss: 0.044\n",
      "[2,    11] loss: 0.048\n",
      "[3,     2] loss: 0.003\n",
      "[3,     3] loss: 0.010\n",
      "[3,     4] loss: 0.014\n",
      "[3,     5] loss: 0.017\n",
      "[3,     6] loss: 0.021\n",
      "[3,     7] loss: 0.025\n",
      "[3,     8] loss: 0.028\n",
      "[3,     9] loss: 0.033\n",
      "[3,    10] loss: 0.037\n",
      "[3,    11] loss: 0.041\n",
      "[4,     2] loss: 0.003\n",
      "[4,     3] loss: 0.009\n",
      "[4,     4] loss: 0.013\n",
      "[4,     5] loss: 0.016\n",
      "[4,     6] loss: 0.020\n",
      "[4,     7] loss: 0.024\n",
      "[4,     8] loss: 0.027\n",
      "[4,     9] loss: 0.032\n",
      "[4,    10] loss: 0.035\n",
      "[4,    11] loss: 0.039\n",
      "[5,     2] loss: 0.003\n",
      "[5,     3] loss: 0.009\n",
      "[5,     4] loss: 0.012\n",
      "[5,     5] loss: 0.016\n",
      "[5,     6] loss: 0.019\n",
      "[5,     7] loss: 0.024\n",
      "[5,     8] loss: 0.026\n",
      "[5,     9] loss: 0.031\n",
      "[5,    10] loss: 0.035\n",
      "[5,    11] loss: 0.039\n",
      "[6,     2] loss: 0.003\n",
      "[6,     3] loss: 0.008\n",
      "[6,     4] loss: 0.012\n",
      "[6,     5] loss: 0.015\n",
      "[6,     6] loss: 0.019\n",
      "[6,     7] loss: 0.023\n",
      "[6,     8] loss: 0.026\n",
      "[6,     9] loss: 0.031\n",
      "[6,    10] loss: 0.035\n",
      "[6,    11] loss: 0.039\n",
      "[7,     2] loss: 0.003\n",
      "[7,     3] loss: 0.008\n",
      "[7,     4] loss: 0.012\n",
      "[7,     5] loss: 0.015\n",
      "[7,     6] loss: 0.019\n",
      "[7,     7] loss: 0.023\n",
      "[7,     8] loss: 0.026\n",
      "[7,     9] loss: 0.031\n",
      "[7,    10] loss: 0.034\n",
      "[7,    11] loss: 0.038\n",
      "[8,     2] loss: 0.003\n",
      "[8,     3] loss: 0.008\n",
      "[8,     4] loss: 0.012\n",
      "[8,     5] loss: 0.015\n",
      "[8,     6] loss: 0.019\n",
      "[8,     7] loss: 0.023\n",
      "[8,     8] loss: 0.026\n",
      "[8,     9] loss: 0.031\n",
      "[8,    10] loss: 0.034\n",
      "[8,    11] loss: 0.038\n",
      "[9,     2] loss: 0.003\n",
      "[9,     3] loss: 0.008\n",
      "[9,     4] loss: 0.011\n",
      "[9,     5] loss: 0.015\n",
      "[9,     6] loss: 0.018\n",
      "[9,     7] loss: 0.023\n",
      "[9,     8] loss: 0.025\n",
      "[9,     9] loss: 0.030\n",
      "[9,    10] loss: 0.034\n",
      "[9,    11] loss: 0.038\n",
      "[10,     2] loss: 0.003\n",
      "[10,     3] loss: 0.008\n",
      "[10,     4] loss: 0.011\n",
      "[10,     5] loss: 0.015\n",
      "[10,     6] loss: 0.018\n",
      "[10,     7] loss: 0.023\n",
      "[10,     8] loss: 0.025\n",
      "[10,     9] loss: 0.030\n",
      "[10,    10] loss: 0.034\n",
      "[10,    11] loss: 0.038\n",
      "[11,     2] loss: 0.003\n",
      "[11,     3] loss: 0.008\n",
      "[11,     4] loss: 0.011\n",
      "[11,     5] loss: 0.015\n",
      "[11,     6] loss: 0.018\n",
      "[11,     7] loss: 0.023\n",
      "[11,     8] loss: 0.025\n",
      "[11,     9] loss: 0.030\n",
      "[11,    10] loss: 0.034\n",
      "[11,    11] loss: 0.038\n",
      "[12,     2] loss: 0.003\n",
      "[12,     3] loss: 0.008\n",
      "[12,     4] loss: 0.011\n",
      "[12,     5] loss: 0.015\n",
      "[12,     6] loss: 0.018\n",
      "[12,     7] loss: 0.023\n",
      "[12,     8] loss: 0.025\n",
      "[12,     9] loss: 0.030\n",
      "[12,    10] loss: 0.034\n",
      "[12,    11] loss: 0.038\n",
      "[13,     2] loss: 0.003\n",
      "[13,     3] loss: 0.008\n",
      "[13,     4] loss: 0.011\n",
      "[13,     5] loss: 0.015\n",
      "[13,     6] loss: 0.018\n",
      "[13,     7] loss: 0.023\n",
      "[13,     8] loss: 0.025\n",
      "[13,     9] loss: 0.030\n",
      "[13,    10] loss: 0.034\n",
      "[13,    11] loss: 0.038\n",
      "[14,     2] loss: 0.003\n",
      "[14,     3] loss: 0.008\n",
      "[14,     4] loss: 0.011\n",
      "[14,     5] loss: 0.015\n",
      "[14,     6] loss: 0.018\n",
      "[14,     7] loss: 0.023\n",
      "[14,     8] loss: 0.025\n",
      "[14,     9] loss: 0.030\n",
      "[14,    10] loss: 0.034\n",
      "[14,    11] loss: 0.038\n",
      "[15,     2] loss: 0.003\n",
      "[15,     3] loss: 0.008\n",
      "[15,     4] loss: 0.011\n",
      "[15,     5] loss: 0.015\n",
      "[15,     6] loss: 0.018\n",
      "[15,     7] loss: 0.023\n",
      "[15,     8] loss: 0.025\n",
      "[15,     9] loss: 0.030\n",
      "[15,    10] loss: 0.034\n",
      "[15,    11] loss: 0.038\n",
      "[16,     2] loss: 0.003\n",
      "[16,     3] loss: 0.008\n",
      "[16,     4] loss: 0.011\n",
      "[16,     5] loss: 0.015\n",
      "[16,     6] loss: 0.018\n",
      "[16,     7] loss: 0.023\n",
      "[16,     8] loss: 0.025\n",
      "[16,     9] loss: 0.030\n",
      "[16,    10] loss: 0.034\n",
      "[16,    11] loss: 0.037\n",
      "[17,     2] loss: 0.003\n",
      "[17,     3] loss: 0.008\n",
      "[17,     4] loss: 0.011\n",
      "[17,     5] loss: 0.014\n",
      "[17,     6] loss: 0.018\n",
      "[17,     7] loss: 0.023\n",
      "[17,     8] loss: 0.025\n",
      "[17,     9] loss: 0.030\n",
      "[17,    10] loss: 0.034\n",
      "[17,    11] loss: 0.037\n",
      "[18,     2] loss: 0.003\n",
      "[18,     3] loss: 0.008\n",
      "[18,     4] loss: 0.011\n",
      "[18,     5] loss: 0.014\n",
      "[18,     6] loss: 0.018\n",
      "[18,     7] loss: 0.022\n",
      "[18,     8] loss: 0.025\n",
      "[18,     9] loss: 0.030\n",
      "[18,    10] loss: 0.034\n",
      "[18,    11] loss: 0.037\n",
      "[19,     2] loss: 0.003\n",
      "[19,     3] loss: 0.008\n",
      "[19,     4] loss: 0.011\n",
      "[19,     5] loss: 0.014\n",
      "[19,     6] loss: 0.018\n",
      "[19,     7] loss: 0.022\n",
      "[19,     8] loss: 0.025\n",
      "[19,     9] loss: 0.030\n",
      "[19,    10] loss: 0.033\n",
      "[19,    11] loss: 0.037\n",
      "[20,     2] loss: 0.003\n",
      "[20,     3] loss: 0.008\n",
      "[20,     4] loss: 0.011\n",
      "[20,     5] loss: 0.014\n",
      "[20,     6] loss: 0.018\n",
      "[20,     7] loss: 0.022\n",
      "[20,     8] loss: 0.025\n",
      "[20,     9] loss: 0.030\n",
      "[20,    10] loss: 0.033\n",
      "[20,    11] loss: 0.037\n",
      "Training Completed !\n"
     ]
    }
   ],
   "source": [
    "train_data(20,100)"
   ]
  },
  {
   "cell_type": "code",
   "execution_count": 48,
   "metadata": {},
   "outputs": [],
   "source": [
    "def test_data(bz):\n",
    "    test_loss = 0\n",
    "    batch = 0\n",
    "    correct = 0\n",
    "    # Need to convert the data from Numpy to Tensor\n",
    "    for start, end in zip(range(0, len(X_test), bz), \n",
    "                          range(bz, len(X_test), bz)):\n",
    "        inputs = torch.from_numpy((X_test[start:end]).as_matrix())\n",
    "        inputs = inputs.float()\n",
    "        #labels = torch.Tensor(target_train[start:end])\n",
    "        labels = torch.from_numpy((target_test[start:end]).as_matrix())\n",
    "        labels = labels.long()\n",
    "\n",
    "        # wrap them in variable\n",
    "        inputs = Variable(inputs)\n",
    "        labels = Variable(labels)\n",
    "\n",
    "        # zero the parameter gradients\n",
    "        optimizer.zero_grad()\n",
    "\n",
    "        outputs = model(inputs)\n",
    "        loss = criterion(outputs,labels)\n",
    "        #loss.backward()\n",
    "        #optimizer.step()\n",
    "        _, preds = torch.max(outputs.data , 1)\n",
    "        correct += preds.eq(labels.data.view_as(preds)).sum()\n",
    "        test_loss += loss.data[0]\n",
    "        batch += 1\n",
    "        #if i % 1 == 0:    # print every 2000 mini-batches\n",
    "        print('Accuracy:{}'.format(correct/bz))\n",
    "        print('[%5d] loss: %.3f' %(batch, test_loss / 100))\n",
    "    print('Test Completed !')\n",
    "        "
   ]
  },
  {
   "cell_type": "code",
   "execution_count": 49,
   "metadata": {},
   "outputs": [
    {
     "name": "stdout",
     "output_type": "stream",
     "text": [
      "Accuracy:0.872\n",
      "[    1] loss: 0.004\n",
      "Test Completed !\n"
     ]
    }
   ],
   "source": [
    "test_data(500)"
   ]
  },
  {
   "cell_type": "markdown",
   "metadata": {},
   "source": [
    "The Accuracy with this model is  87%"
   ]
  },
  {
   "cell_type": "markdown",
   "metadata": {},
   "source": [
    "More info :https://github.com/PythonWorkshop/Intro-to-TensorFlow-and-PyTorch/blob/master/PyTorch%20Tutorial.ipynb"
   ]
  },
  {
   "cell_type": "code",
   "execution_count": null,
   "metadata": {},
   "outputs": [],
   "source": []
  }
 ],
 "metadata": {
  "kernelspec": {
   "display_name": "Python 2",
   "language": "python",
   "name": "python2"
  },
  "language_info": {
   "codemirror_mode": {
    "name": "ipython",
    "version": 3
   },
   "file_extension": ".py",
   "mimetype": "text/x-python",
   "name": "python",
   "nbconvert_exporter": "python",
   "pygments_lexer": "ipython3",
   "version": "3.6.4"
  }
 },
 "nbformat": 4,
 "nbformat_minor": 2
}
